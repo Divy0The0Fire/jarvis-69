{
 "cells": [
  {
   "cell_type": "code",
   "execution_count": 2,
   "metadata": {},
   "outputs": [],
   "source": [
    "import pandas as pd\n",
    "import numpy as np\n",
    "from sentence_transformers import SentenceTransformer\n",
    "from sklearn.metrics.pairwise import cosine_similarity\n",
    "import os\n",
    "import sys\n",
    "\n"
   ]
  },
  {
   "cell_type": "code",
   "execution_count": 18,
   "metadata": {},
   "outputs": [
    {
     "name": "stderr",
     "output_type": "stream",
     "text": [
      "c:\\Users\\Divyansh\\AppData\\Local\\Programs\\Python\\Python310\\lib\\site-packages\\huggingface_hub\\file_download.py:1150: FutureWarning: `resume_download` is deprecated and will be removed in version 1.0.0. Downloads always resume when possible. If you want to force a new download, use `force_download=True`.\n",
      "  warnings.warn(\n"
     ]
    },
    {
     "name": "stdout",
     "output_type": "stream",
     "text": [
      "[ True  True False ...  True False  True]\n",
      "general\n",
      "[False False  True ... False  True False]\n",
      "realtime\n",
      "The predicted label for the new example is: realtime\n"
     ]
    }
   ],
   "source": [
    "sys.path.append(r\"data/test\")\n",
    "\n",
    "# Step 1: Load the CSV data\n",
    "data = pd.read_csv('data.csv')  # Replace with your CSV file path\n",
    "sentences = data['Examples'].tolist()  # List of text examples\n",
    "labels = data['Labels'].tolist()        # List of corresponding labels\n",
    "\n",
    "# Step 2: Generate embeddings\n",
    "model = SentenceTransformer('sentence-transformers/all-MiniLM-L12-v2')\n",
    "embeddings = model.encode(sentences)\n",
    "\n",
    "# Step 3: Create prototypes for each label\n",
    "label_prototypes = {}\n",
    "for label in set(labels):\n",
    "    # Get all embeddings for the current label\n",
    "    label_embeddings = embeddings[np.array(labels) == label]\n",
    "    print(label)\n",
    "    # Average the embeddings to get the prototype\n",
    "    label_prototypes[label] = np.mean(label_embeddings, axis=0)\n",
    "\n",
    "# Step 4: Classify new examples\n",
    "def classify_example(new_example):\n",
    "    new_embedding = model.encode([new_example])\n",
    "    similarities = {\n",
    "        label: cosine_similarity(new_embedding, prototype.reshape(1, -1))[0][0]\n",
    "        for label, prototype in label_prototypes.items()\n",
    "    }\n",
    "    predicted_label = max(similarities, key=similarities.get)\n",
    "    return predicted_label\n",
    "\n",
    "# Example usage\n",
    "new_example = \"who is elon musk?\"\n",
    "predicted_label = classify_example(new_example)\n",
    "print(f'The predicted label for the new example is: {predicted_label}')\n"
   ]
  },
  {
   "cell_type": "code",
   "execution_count": 16,
   "metadata": {},
   "outputs": [
    {
     "name": "stdout",
     "output_type": "stream",
     "text": [
      "The predicted label for the new example is: general\n"
     ]
    }
   ],
   "source": [
    "new_example = \"do you love me \"\n",
    "predicted_label = classify_example(new_example)\n",
    "print(f'The predicted label for the new example is: {predicted_label}')"
   ]
  }
 ],
 "metadata": {
  "kernelspec": {
   "display_name": "Python 3",
   "language": "python",
   "name": "python3"
  },
  "language_info": {
   "codemirror_mode": {
    "name": "ipython",
    "version": 3
   },
   "file_extension": ".py",
   "mimetype": "text/x-python",
   "name": "python",
   "nbconvert_exporter": "python",
   "pygments_lexer": "ipython3",
   "version": "3.10.10"
  }
 },
 "nbformat": 4,
 "nbformat_minor": 2
}
